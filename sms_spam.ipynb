{
  "nbformat": 4,
  "nbformat_minor": 0,
  "metadata": {
    "colab": {
      "provenance": []
    },
    "kernelspec": {
      "name": "python3",
      "display_name": "Python 3"
    },
    "language_info": {
      "name": "python"
    }
  },
  "cells": [
    {
      "cell_type": "code",
      "execution_count": 6,
      "metadata": {
        "id": "Fcs7NLwbhvT9"
      },
      "outputs": [],
      "source": [
        "import numpy as np\n",
        "import pandas as pd\n",
        "\n",
        "from sklearn.model_selection import train_test_split\n",
        "from sklearn.preprocessing import LabelEncoder\n",
        "from sklearn.linear_model import LogisticRegression\n",
        "from sklearn.svm import SVC\n",
        "from sklearn.neural_network import MLPClassifier\n",
        "from sklearn.metrics import f1_score\n",
        "\n",
        "import matplotlib.pyplot as plt\n",
        "import seaborn as sns"
      ]
    },
    {
      "cell_type": "code",
      "source": [
        "# Load and preview the dataset\n",
        "from google.colab import drive\n",
        "drive.mount('/content/drive')\n",
        "df = pd.read_csv('/content/drive/MyDrive/Colab Notebooks/spam.csv', encoding='latin-1')\n",
        "print(df.head())\n",
        "\n",
        "# Remove unnecessary columns\n",
        "columns_to_remove = df.columns[2:5]\n",
        "df.drop(columns=columns_to_remove, inplace=True)\n",
        "\n",
        "# Visualize the distribution of classes\n",
        "plt.figure(figsize=(8, 6))\n",
        "sns.countplot(x='v1', data=df)\n",
        "plt.title('Distribution of Spam and Ham Messages')\n",
        "plt.xlabel('Label')\n",
        "plt.ylabel('Count')\n",
        "plt.show()\n"
      ],
      "metadata": {
        "colab": {
          "base_uri": "https://localhost:8080/",
          "height": 807
        },
        "id": "N7G1hCutiaAo",
        "outputId": "5e4d39a6-6f5e-4f43-f1ed-e43d74c72528"
      },
      "execution_count": 7,
      "outputs": [
        {
          "output_type": "stream",
          "name": "stdout",
          "text": [
            "Drive already mounted at /content/drive; to attempt to forcibly remount, call drive.mount(\"/content/drive\", force_remount=True).\n",
            "     v1                                                 v2 Unnamed: 2  \\\n",
            "0   ham  Go until jurong point, crazy.. Available only ...        NaN   \n",
            "1   ham                      Ok lar... Joking wif u oni...        NaN   \n",
            "2  spam  Free entry in 2 a wkly comp to win FA Cup fina...        NaN   \n",
            "3   ham  U dun say so early hor... U c already then say...        NaN   \n",
            "4   ham  Nah I don't think he goes to usf, he lives aro...        NaN   \n",
            "\n",
            "  Unnamed: 3 Unnamed: 4  \n",
            "0        NaN        NaN  \n",
            "1        NaN        NaN  \n",
            "2        NaN        NaN  \n",
            "3        NaN        NaN  \n",
            "4        NaN        NaN  \n"
          ]
        },
        {
          "output_type": "display_data",
          "data": {
            "text/plain": [
              "<Figure size 800x600 with 1 Axes>"
            ],
            "image/png": "[encoded data removed]"
          },
          "metadata": {}
        }
      ]
    },
    {
      "cell_type": "code",
      "source": [
        "# Encode labels\n",
        "label_encoder = LabelEncoder()\n",
        "df['label'] = label_encoder.fit_transform(df['v1'])\n",
        "df.drop('v1', axis=1, inplace=True)\n",
        "\n",
        "# Prepare features and target\n",
        "X = df['v2']\n",
        "y = df['label']\n",
        "\n",
        "# Split dataset\n",
        "X_train, X_test, y_train, y_test = train_test_split(X, y, test_size=0.2, random_state=42)\n",
        "\n",
        "# Text vectorization\n",
        "from sklearn.feature_extraction.text import TfidfVectorizer\n",
        "tfidf = TfidfVectorizer(stop_words='english', lowercase=True)\n",
        "X_train_vec = tfidf.fit_transform(X_train)\n",
        "X_test_vec = tfidf.transform(X_test)\n",
        "print(X_train_vec)"
      ],
      "metadata": {
        "colab": {
          "base_uri": "https://localhost:8080/"
        },
        "id": "CmKMhVv3ifl8",
        "outputId": "73372d42-1ec1-4776-eed2-8e4990041907"
      },
      "execution_count": 8,
      "outputs": [
        {
          "output_type": "stream",
          "name": "stdout",
          "text": [
            "<Compressed Sparse Row sparse matrix of dtype 'float64'\n",
            "\twith 34794 stored elements and shape (4457, 7472)>\n",
            "  Coords\tValues\n",
            "  (0, 1371)\t0.4658046386365619\n",
            "  (0, 4416)\t0.4528381701109944\n",
            "  (0, 1706)\t0.3431839629173582\n",
            "  (0, 7415)\t0.348722265231364\n",
            "  (0, 3210)\t0.348722265231364\n",
            "  (0, 4520)\t0.4658046386365619\n",
            "  (1, 1187)\t0.26161139982801973\n",
            "  (1, 3140)\t0.3059746053542906\n",
            "  (1, 3631)\t0.2804339696184593\n",
            "  (1, 6296)\t0.269833648032668\n",
            "  (1, 1533)\t0.2015782058421696\n",
            "  (1, 2661)\t0.3059746053542906\n",
            "  (1, 5005)\t0.1937920260229529\n",
            "  (1, 4292)\t0.2953742837684993\n",
            "  (1, 419)\t0.28715203556385105\n",
            "  (1, 4533)\t0.3059746053542906\n",
            "  (1, 6440)\t0.2953742837684993\n",
            "  (1, 1649)\t0.3059746053542906\n",
            "  (1, 0)\t0.2654936554684193\n",
            "  (2, 3061)\t0.44585171875646595\n",
            "  (2, 5770)\t0.3962151014046925\n",
            "  (2, 1674)\t0.35156722029872034\n",
            "  (2, 5351)\t0.5102109014477275\n",
            "  (2, 2190)\t0.5102109014477275\n",
            "  (3, 5048)\t0.4444794309161828\n",
            "  :\t:\n",
            "  (4451, 5002)\t0.36484607066812064\n",
            "  (4451, 4939)\t0.36484607066812064\n",
            "  (4452, 3085)\t0.25923599228241945\n",
            "  (4452, 5070)\t0.3823754823843719\n",
            "  (4452, 5998)\t0.3311324953642251\n",
            "  (4452, 1781)\t0.3311324953642251\n",
            "  (4452, 1579)\t0.3576443319642905\n",
            "  (4452, 3423)\t0.4833413012939851\n",
            "  (4452, 3402)\t0.4536077050510107\n",
            "  (4453, 4022)\t0.5251399912435084\n",
            "  (4453, 3896)\t0.6138307933697734\n",
            "  (4453, 6102)\t0.5894401977366341\n",
            "  (4454, 3282)\t0.31753127203477105\n",
            "  (4454, 5161)\t0.43497582872738466\n",
            "  (4454, 6109)\t0.44743083090000146\n",
            "  (4454, 5413)\t0.40874206042479744\n",
            "  (4454, 2938)\t0.3775064911532845\n",
            "  (4454, 6108)\t0.44743083090000146\n",
            "  (4455, 3720)\t0.5663548747533713\n",
            "  (4455, 4674)\t0.47741741602516974\n",
            "  (4455, 5819)\t0.5321975225970689\n",
            "  (4455, 6701)\t0.40997629646174116\n",
            "  (4456, 3085)\t0.5132022683472269\n",
            "  (4456, 7301)\t0.5938942231507836\n",
            "  (4456, 4332)\t0.6196072009518515\n"
          ]
        }
      ]
    },
    {
      "cell_type": "code",
      "source": [
        "# Initialize classifiers\n",
        "lr_model = LogisticRegression()\n",
        "svc_model = SVC()\n",
        "mlp_model = MLPClassifier(hidden_layer_sizes=(128, 128), random_state=42)\n",
        "\n",
        "# Train models\n",
        "lr_model.fit(X_train_vec, y_train)\n",
        "svc_model.fit(X_train_vec, y_train)\n",
        "mlp_model.fit(X_train_vec, y_train)\n",
        "\n",
        "# Predictions\n",
        "lr_pred = lr_model.predict(X_test_vec)\n",
        "svc_pred = svc_model.predict(X_test_vec)\n",
        "mlp_pred = mlp_model.predict(X_test_vec)\n"
      ],
      "metadata": {
        "id": "e3ZfgDC8iwsr"
      },
      "execution_count": 9,
      "outputs": []
    },
    {
      "cell_type": "code",
      "source": [
        "# Output results\n",
        "print(f\"Logistic Regression Accuracy: {lr_model.score(X_test_vec, y_test)}\")\n",
        "print(f\"SVM Accuracy: {svc_model.score(X_test_vec, y_test)}\")\n",
        "print(f\"Neural Network Accuracy: {mlp_model.score(X_test_vec, y_test)}\")\n",
        "\n",
        "print(f\"Logistic Regression F1 Score: {f1_score(y_test, lr_pred)}\")\n",
        "print(f\"SVM F1 Score: {f1_score(y_test, svc_pred)}\")\n",
        "print(f\"Neural Network F1 Score: {f1_score(y_test, mlp_pred)}\")\n"
      ],
      "metadata": {
        "colab": {
          "base_uri": "https://localhost:8080/"
        },
        "id": "tKZW7JxIizvC",
        "outputId": "4ccc7f5e-c31c-4596-a2a0-b7f3d67caaa5"
      },
      "execution_count": 10,
      "outputs": [
        {
          "output_type": "stream",
          "name": "stdout",
          "text": [
            "Logistic Regression Accuracy: 0.9524663677130045\n",
            "SVM Accuracy: 0.9766816143497757\n",
            "Neural Network Accuracy: 0.9829596412556054\n",
            "Logistic Regression F1 Score: 0.7905138339920948\n",
            "SVM F1 Score: 0.9057971014492754\n",
            "Neural Network F1 Score: 0.9342560553633218\n"
          ]
        }
      ]
    }
  ]
}