{
  "nbformat": 4,
  "nbformat_minor": 0,
  "metadata": {
    "colab": {
      "provenance": []
    },
    "kernelspec": {
      "name": "python3",
      "display_name": "Python 3"
    },
    "language_info": {
      "name": "python"
    }
  },
  "cells": [
    {
      "cell_type": "code",
      "execution_count": 1,
      "metadata": {
        "id": "NYjJGzoBYEVP"
      },
      "outputs": [],
      "source": [
        "import pandas as pd\n",
        "import numpy as np\n",
        "import matplotlib.pyplot as plt\n",
        "import seaborn as sns\n"
      ]
    },
    {
      "cell_type": "code",
      "source": [
        "# Load the dataset\n",
        "from google.colab import drive\n",
        "drive.mount('/content/drive')\n",
        "churn_data = pd.read_csv(\"/content/drive/MyDrive/Colab Notebooks/Churn_Modelling.csv\")\n",
        "\n",
        "# Display initial information\n",
        "print(\"Initial Data Preview:\")\n",
        "print(churn_data.head())"
      ],
      "metadata": {
        "colab": {
          "base_uri": "https://localhost:8080/"
        },
        "id": "GJA8-RORYKIL",
        "outputId": "4f25e632-81eb-4d99-fb6e-aab419a68ac9"
      },
      "execution_count": 2,
      "outputs": [
        {
          "output_type": "stream",
          "name": "stdout",
          "text": [
            "Mounted at /content/drive\n",
            "Initial Data Preview:\n",
            "   RowNumber  CustomerId   Surname  CreditScore Geography  Gender  Age  \\\n",
            "0          1    15634602  Hargrave          619    France  Female   42   \n",
            "1          2    15647311      Hill          608     Spain  Female   41   \n",
            "2          3    15619304      Onio          502    France  Female   42   \n",
            "3          4    15701354      Boni          699    France  Female   39   \n",
            "4          5    15737888  Mitchell          850     Spain  Female   43   \n",
            "\n",
            "   Tenure    Balance  NumOfProducts  HasCrCard  IsActiveMember  \\\n",
            "0       2       0.00              1          1               1   \n",
            "1       1   83807.86              1          0               1   \n",
            "2       8  159660.80              3          1               0   \n",
            "3       1       0.00              2          0               0   \n",
            "4       2  125510.82              1          1               1   \n",
            "\n",
            "   EstimatedSalary  Exited  \n",
            "0        101348.88       1  \n",
            "1        112542.58       0  \n",
            "2        113931.57       1  \n",
            "3         93826.63       0  \n",
            "4         79084.10       0  \n"
          ]
        }
      ]
    },
    {
      "cell_type": "code",
      "source": [
        "# Remove duplicate entries\n",
        "churn_data = churn_data.drop_duplicates()\n",
        "\n",
        "# Show dataset shape after removing duplicates\n",
        "print(\"\\nData Shape After Removing Duplicates:\", churn_data.shape)"
      ],
      "metadata": {
        "colab": {
          "base_uri": "https://localhost:8080/"
        },
        "id": "lebSf47kYtPL",
        "outputId": "6763b6de-fd2e-4309-d58a-0826d2f1a41a"
      },
      "execution_count": 3,
      "outputs": [
        {
          "output_type": "stream",
          "name": "stdout",
          "text": [
            "\n",
            "Data Shape After Removing Duplicates: (10000, 14)\n"
          ]
        }
      ]
    },
    {
      "cell_type": "code",
      "source": [
        "# Display class distribution for the target\n",
        "print(\"\\nExited Value Counts:\")\n",
        "print(churn_data['Exited'].value_counts())\n",
        "\n",
        "# Visualize gender distribution by churn outcome\n",
        "plt.figure(figsize=(6,4))\n",
        "sns.countplot(data=churn_data, x='Gender', hue='Exited')\n",
        "plt.title(\"Gender vs. Churn Outcome\")\n",
        "plt.show()"
      ],
      "metadata": {
        "colab": {
          "base_uri": "https://localhost:8080/",
          "height": 514
        },
        "id": "5SMpYH-4ZGoK",
        "outputId": "16da4a2c-111d-4425-adf3-25bb11f9c4f2"
      },
      "execution_count": 4,
      "outputs": [
        {
          "output_type": "stream",
          "name": "stdout",
          "text": [
            "\n",
            "Exited Value Counts:\n",
            "Exited\n",
            "0    7963\n",
            "1    2037\n",
            "Name: count, dtype: int64\n"
          ]
        },
        {
          "output_type": "display_data",
          "data": {
            "text/plain": [
              "<Figure size 600x400 with 1 Axes>"
            ],
            "image/png": "[encoded data removed]"
          },
          "metadata": {}
        }
      ]
    },
    {
      "cell_type": "code",
      "source": [
        "# Drop unneeded identifier column\n",
        "churn_data.drop(columns=['CustomerId'], inplace=True)\n",
        "print(\"\\nShape After Dropping CustomerId:\", churn_data.shape)\n",
        "\n",
        "# Encode categorical features\n",
        "from sklearn.preprocessing import LabelEncoder\n",
        "labeler = LabelEncoder()\n",
        "for feature in churn_data.columns:\n",
        "    if churn_data[feature].dtype == object:\n",
        "        churn_data[feature] = labeler.fit_transform(churn_data[feature])\n",
        "\n",
        "# Separate features and target\n",
        "features = churn_data.drop(columns=['Exited'])\n",
        "target = churn_data['Exited']\n"
      ],
      "metadata": {
        "colab": {
          "base_uri": "https://localhost:8080/"
        },
        "id": "YqO2YSJFZNJ3",
        "outputId": "23271d86-26bf-4ee6-c607-ea62c463cd10"
      },
      "execution_count": 5,
      "outputs": [
        {
          "output_type": "stream",
          "name": "stdout",
          "text": [
            "\n",
            "Shape After Dropping CustomerId: (10000, 13)\n"
          ]
        }
      ]
    },
    {
      "cell_type": "code",
      "source": [
        "# Standardize feature values\n",
        "from sklearn.preprocessing import StandardScaler\n",
        "scaler = StandardScaler()\n",
        "features_scaled = scaler.fit_transform(features)\n",
        "\n",
        "# Split into training and test sets\n",
        "from sklearn.model_selection import train_test_split\n",
        "X_train, X_test, y_train, y_test = train_test_split(\n",
        "    features_scaled, target, test_size=0.2, random_state=1\n",
        ")\n",
        "print(\"\\nTraining Data Shape:\", X_train.shape)"
      ],
      "metadata": {
        "colab": {
          "base_uri": "https://localhost:8080/"
        },
        "id": "iP_Z6lkgZTCF",
        "outputId": "c284dc78-3406-4253-9bd1-7a8dc8be04af"
      },
      "execution_count": 6,
      "outputs": [
        {
          "output_type": "stream",
          "name": "stdout",
          "text": [
            "\n",
            "Training Data Shape: (8000, 12)\n"
          ]
        }
      ]
    },
    {
      "cell_type": "code",
      "source": [
        "# Train Logistic Regression model\n",
        "from sklearn.linear_model import LogisticRegression\n",
        "classifier = LogisticRegression()\n",
        "classifier.fit(X_train, y_train)\n",
        "\n",
        "# Make predictions and evaluate\n",
        "y_pred = classifier.predict(X_test)\n",
        "accuracy = classifier.score(X_test, y_test)\n",
        "print(\"\\nTest Accuracy:\", accuracy)\n"
      ],
      "metadata": {
        "colab": {
          "base_uri": "https://localhost:8080/"
        },
        "id": "H3pUb4pcZXLS",
        "outputId": "9a7f51ec-35fb-475e-b819-c873f3d90621"
      },
      "execution_count": 7,
      "outputs": [
        {
          "output_type": "stream",
          "name": "stdout",
          "text": [
            "\n",
            "Test Accuracy: 0.8035\n"
          ]
        }
      ]
    },
    {
      "cell_type": "code",
      "source": [
        "# Confusion matrix visualization\n",
        "from sklearn.metrics import confusion_matrix\n",
        "matrix = confusion_matrix(y_test, y_pred)\n",
        "plt.figure(figsize=(7,5))\n",
        "sns.heatmap(matrix, annot=True, fmt='d', cmap='YlGnBu')\n",
        "plt.title(\"Confusion Matrix\")\n",
        "plt.xlabel(\"Predicted\")\n",
        "plt.ylabel(\"Actual\")\n",
        "plt.show()\n",
        "\n",
        "# Classification report\n",
        "from sklearn.metrics import classification_report\n",
        "print(\"\\nClassification Report:\")\n",
        "print(classification_report(y_test, y_pred))\n"
      ],
      "metadata": {
        "colab": {
          "base_uri": "https://localhost:8080/",
          "height": 678
        },
        "id": "8HDA7yN6ZbO4",
        "outputId": "0849acd0-8aac-4d31-a17f-e14f32a8e711"
      },
      "execution_count": 8,
      "outputs": [
        {
          "output_type": "display_data",
          "data": {
            "text/plain": [
              "<Figure size 700x500 with 2 Axes>"
            ],
            "image/png": "[encoded data removed]"
          },
          "metadata": {}
        },
        {
          "output_type": "stream",
          "name": "stdout",
          "text": [
            "\n",
            "Classification Report:\n",
            "              precision    recall  f1-score   support\n",
            "\n",
            "           0       0.82      0.97      0.89      1585\n",
            "           1       0.59      0.18      0.27       415\n",
            "\n",
            "    accuracy                           0.80      2000\n",
            "   macro avg       0.70      0.57      0.58      2000\n",
            "weighted avg       0.77      0.80      0.76      2000\n",
            "\n"
          ]
        }
      ]
    }
  ]
}